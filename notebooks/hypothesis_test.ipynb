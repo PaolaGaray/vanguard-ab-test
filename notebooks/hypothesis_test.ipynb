{
 "cells": [
  {
   "cell_type": "code",
   "execution_count": 2,
   "id": "6cdea12d-12d5-41a4-8b51-268f0826debc",
   "metadata": {},
   "outputs": [],
   "source": [
    "import pandas as pd\n",
    "import numpy as np\n",
    "from scipy import stats\n",
    "from statsmodels.stats.proportion import proportions_ztest"
   ]
  },
  {
   "cell_type": "markdown",
   "id": "f785b90d-31c2-4485-933f-58150c38e3e8",
   "metadata": {},
   "source": [
    "# Completion Rate"
   ]
  },
  {
   "cell_type": "code",
   "execution_count": 4,
   "id": "d9b686f6-c082-4a3f-9dcd-3b8ace178d4b",
   "metadata": {},
   "outputs": [
    {
     "name": "stdout",
     "output_type": "stream",
     "text": [
      "Pooled Variance: 7422.044311481096\n",
      "Standard Error: 0.6948527063137073\n",
      "T-statistic: 74.83600413081416\n",
      "P-value (two-tailed): 0.0\n",
      "Reject the null hypothesis: The time spent in the Test group is significantly different from the Control group.\n"
     ]
    }
   ],
   "source": [
    "import numpy as np\n",
    "from scipy import stats\n",
    "\n",
    "# Given data\n",
    "n_control = 30243  # Number of customers in the Control group\n",
    "n_test = 31263     # Number of customers in the Test group\n",
    "\n",
    "# Time data (in seconds, converted from minutes and seconds)\n",
    "control_times_seconds = [269, 157, 242, 335]  # Control times in seconds\n",
    "test_times_seconds = [282, 223, 263, 443]    # Test times in seconds\n",
    "\n",
    "# Step 1: Calculate the mean for Control and Test groups\n",
    "mean_control = np.mean(control_times_seconds)\n",
    "mean_test = np.mean(test_times_seconds)\n",
    "\n",
    "# Step 2: Calculate the variance for Control and Test groups\n",
    "var_control = np.var(control_times_seconds, ddof=1)  # variance of control group\n",
    "var_test = np.var(test_times_seconds, ddof=1)        # variance of test group\n",
    "\n",
    "# Step 3: Calculate the pooled variance\n",
    "pooled_var = ((n_control - 1) * var_control + (n_test - 1) * var_test) / (n_control + n_test - 2)\n",
    "\n",
    "# Step 4: Calculate the standard error\n",
    "se = np.sqrt(pooled_var * (1/n_control + 1/n_test))\n",
    "\n",
    "# Step 5: Calculate the t-statistic for the difference in means\n",
    "t_stat = (mean_test - mean_control) / se\n",
    "\n",
    "# Step 6: Calculate the p-value for a two-tailed test\n",
    "p_value = 1 - stats.t.cdf(t_stat, df=n_control + n_test - 2)\n",
    "\n",
    "# Step 7: Output the results\n",
    "print(f\"Pooled Variance: {pooled_var}\")\n",
    "print(f\"Standard Error: {se}\")\n",
    "print(f\"T-statistic: {t_stat}\")\n",
    "print(f\"P-value (two-tailed): {p_value}\")\n",
    "\n",
    "# Step 8: Conclusion based on significance level (alpha = 0.05)\n",
    "alpha = 0.05\n",
    "if p_value < alpha:\n",
    "    print(\"Reject the null hypothesis: The time spent in the Test group is significantly different from the Control group.\")\n",
    "else:\n",
    "    print(\"Fail to reject the null hypothesis: There is no significant difference in time spent between the Test and Control groups.\")\n"
   ]
  },
  {
   "cell_type": "markdown",
   "id": "3afd4608-8159-42e5-8976-1b58cdf11967",
   "metadata": {},
   "source": [
    "# Time Spent on Each Step"
   ]
  },
  {
   "cell_type": "code",
   "execution_count": 6,
   "id": "f76b6876-f2cc-4905-9700-6aed24ef7ed9",
   "metadata": {},
   "outputs": [
    {
     "name": "stdout",
     "output_type": "stream",
     "text": [
      "        Control  Test\n",
      "start       269   282\n",
      "step_1      157   223\n",
      "step_2      242   263\n",
      "step_3      335   443\n",
      "Chi2 Statistic: 8.16640405423287\n",
      "P value: 0.042694953548588425\n",
      "Degrees of Freedon: 3\n",
      "Expected Frequencies Table:\n",
      "[[249.61743451 301.38256549]\n",
      " [172.14995483 207.85004517]\n",
      " [228.77822945 276.22177055]\n",
      " [352.45438121 425.54561879]]\n"
     ]
    }
   ],
   "source": [
    "from scipy.stats import chi2_contingency\n",
    "\n",
    "data = {\n",
    "    'Control': [269, 157, 242, 335],  # Converted to seconds: 4*60+29, 2*60+37, etc.\n",
    "    'Test': [282, 223, 263, 443]      # Converted to seconds\n",
    "}\n",
    "df = pd.DataFrame(data, index=['start', 'step_1', 'step_2', 'step_3'])\n",
    "print(df)\n",
    "\n",
    "# The contingency table for the chi-squared test\n",
    "contingency_table = df.values\n",
    "\n",
    "# Perform the chi-squared test\n",
    "chi2, p, dof, ex = chi2_contingency(contingency_table)\n",
    "\n",
    "print(f\"Chi2 Statistic: {chi2}\")\n",
    "print(f\"P value: {p}\")\n",
    "print(f\"Degrees of Freedon: {dof}\")\n",
    "print(\"Expected Frequencies Table:\")\n",
    "print(ex)"
   ]
  },
  {
   "cell_type": "markdown",
   "id": "3e93abf4-afc9-46fc-a556-353120bc26d2",
   "metadata": {},
   "source": [
    "# Error Rate (steps repetition)"
   ]
  },
  {
   "cell_type": "code",
   "execution_count": 8,
   "id": "40a41c2f-ec38-4493-a346-0aa2600d16b1",
   "metadata": {},
   "outputs": [
    {
     "name": "stdout",
     "output_type": "stream",
     "text": [
      "Pooled Variance: 0.6615242605359002\n",
      "Standard Error: 0.00656000046122339\n",
      "T-statistic: 25.609754296979034\n",
      "P-value (two-tailed): 0.0\n",
      "Reject the null hypothesis: The error rate (step repetition) in the Test group is significantly different from the Control group.\n"
     ]
    }
   ],
   "source": [
    "import numpy as np  # Make sure this is at the top of your code\n",
    "from scipy import stats\n",
    "\n",
    "# Given data\n",
    "n_control = 30243  # Number of customers in the Control group\n",
    "n_test = 31263     # Number of customers in the Test group\n",
    "\n",
    "# Error rate data (step repetitions from the table)\n",
    "control_steps_repetition = [2.86, 2.49, 2.58, 2.50, 1.00]  # Control group step repetitions\n",
    "test_steps_repetition = [3.39, 2.76, 2.64, 2.48, 1.00]     # Test group step repetitions\n",
    "\n",
    "# Step 1: Calculate the mean for Control and Test groups\n",
    "mean_control = np.mean(control_steps_repetition)\n",
    "mean_test = np.mean(test_steps_repetition)\n",
    "\n",
    "# Step 2: Calculate the variance for Control and Test groups\n",
    "var_control = np.var(control_steps_repetition, ddof=1)  # variance of control group\n",
    "var_test = np.var(test_steps_repetition, ddof=1)        # variance of test group\n",
    "\n",
    "# Step 3: Calculate the pooled variance\n",
    "pooled_var = ((n_control - 1) * var_control + (n_test - 1) * var_test) / (n_control + n_test - 2)\n",
    "\n",
    "# Step 4: Calculate the standard error\n",
    "se = np.sqrt(pooled_var * (1/n_control + 1/n_test))\n",
    "\n",
    "# Step 5: Calculate the t-statistic for the difference in means\n",
    "t_stat = (mean_test - mean_control) / se\n",
    "\n",
    "# Step 6: Calculate the p-value for a two-tailed test\n",
    "p_value = 1 - stats.t.cdf(t_stat, df=n_control + n_test - 2)\n",
    "\n",
    "# Step 7: Output the results\n",
    "print(f\"Pooled Variance: {pooled_var}\")\n",
    "print(f\"Standard Error: {se}\")\n",
    "print(f\"T-statistic: {t_stat}\")\n",
    "print(f\"P-value (two-tailed): {p_value}\")\n",
    "\n",
    "# Step 8: Conclusion based on significance level (alpha = 0.05)\n",
    "alpha = 0.05\n",
    "if p_value < alpha:\n",
    "    print(\"Reject the null hypothesis: The error rate (step repetition) in the Test group is significantly different from the Control group.\")\n",
    "else:\n",
    "    print(\"Fail to reject the null hypothesis: There is no significant difference in error rate (step repetition) between the Test and Control groups.\")\n"
   ]
  }
 ],
 "metadata": {
  "kernelspec": {
   "display_name": "Python 3 (ipykernel)",
   "language": "python",
   "name": "python3"
  },
  "language_info": {
   "codemirror_mode": {
    "name": "ipython",
    "version": 3
   },
   "file_extension": ".py",
   "mimetype": "text/x-python",
   "name": "python",
   "nbconvert_exporter": "python",
   "pygments_lexer": "ipython3",
   "version": "3.12.4"
  }
 },
 "nbformat": 4,
 "nbformat_minor": 5
}
